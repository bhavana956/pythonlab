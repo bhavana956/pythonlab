{
  "nbformat": 4,
  "nbformat_minor": 0,
  "metadata": {
    "colab": {
      "provenance": [],
      "include_colab_link": true
    },
    "kernelspec": {
      "name": "python3",
      "display_name": "Python 3"
    },
    "language_info": {
      "name": "python"
    }
  },
  "cells": [
    {
      "cell_type": "markdown",
      "metadata": {
        "id": "view-in-github",
        "colab_type": "text"
      },
      "source": [
        "<a href=\"https://colab.research.google.com/github/bhavana956/pythonlab/blob/main/Functools_Module_in_Python_(20221BCA0304).ipynb\" target=\"_parent\"><img src=\"https://colab.research.google.com/assets/colab-badge.svg\" alt=\"Open In Colab\"/></a>"
      ]
    },
    {
      "cell_type": "code",
      "source": [
        "from functools import partial\n",
        "\n",
        "\n",
        "def power(a, b):\n",
        "\treturn a**b\n",
        "\n",
        "\n",
        "# partial functions\n",
        "pow2 = partial(power, b=2)\n",
        "pow4 = partial(power, b=4)\n",
        "power_of_5 = partial(power, 5)\n",
        "\n",
        "print(power(2, 3))\n",
        "print(pow2(4))\n",
        "print(pow4(3))\n",
        "print(power_of_5(2))\n",
        "\n",
        "print('Function used in partial function pow2 :', pow2.func)\n",
        "print('Default keywords for pow2 :', pow2.keywords)\n",
        "print('Default arguments for power_of_5 :', power_of_5.args)\n"
      ],
      "metadata": {
        "colab": {
          "base_uri": "https://localhost:8080/"
        },
        "id": "RqhKs5A5OjjC",
        "outputId": "1368482b-7a54-49e3-bc93-a23a66342200"
      },
      "execution_count": null,
      "outputs": [
        {
          "output_type": "stream",
          "name": "stdout",
          "text": [
            "8\n",
            "16\n",
            "81\n",
            "25\n",
            "Function used in partial function pow2 : <function power at 0x7d9bf59c8a60>\n",
            "Default keywords for pow2 : {'b': 2}\n",
            "Default arguments for power_of_5 : (5,)\n"
          ]
        }
      ]
    },
    {
      "cell_type": "code",
      "source": [
        "from functools import partialmethod\n",
        "\n",
        "class Demo:\n",
        "\tdef __init__(self):\n",
        "\t\tself.color = 'black'\n",
        "\n",
        "\tdef _color(self, type):\n",
        "\t\tself.color = type\n",
        "\n",
        "\tset_red = partialmethod(_color, type='red')\n",
        "\tset_blue = partialmethod(_color, type='blue')\n",
        "\tset_green = partialmethod(_color, type='green')\n",
        "\n",
        "\n",
        "obj = Demo()\n",
        "print(obj.color)\n",
        "\n",
        "obj.set_blue()\n",
        "print(obj.color)\n",
        "\n",
        "obj.set_red()\n",
        "print(obj.color)\n",
        "\n",
        "obj.set_green()\n",
        "print(obj.color)"
      ],
      "metadata": {
        "colab": {
          "base_uri": "https://localhost:8080/"
        },
        "id": "KsXwWyBvSOTA",
        "outputId": "54548b2f-48aa-4a0f-eef5-67d5fba38341"
      },
      "execution_count": null,
      "outputs": [
        {
          "output_type": "stream",
          "name": "stdout",
          "text": [
            "black\n",
            "blue\n",
            "red\n",
            "green\n"
          ]
        }
      ]
    },
    {
      "cell_type": "code",
      "source": [
        "from functools import cmp_to_key\n",
        "\n",
        "# function to sort according to last character\n",
        "def cmp_fun(a, b):\n",
        "\tif a[-1] > b[-1]:\n",
        "\t\treturn 1\n",
        "\telif a[-1] < b[-1]:\n",
        "\t\treturn -1\n",
        "\telse:\n",
        "\t\treturn 0\n",
        "\n",
        "list1 = ['A', 'M', 'Z']\n",
        "l = sorted(list1, key = cmp_to_key(cmp_fun))\n",
        "print('sorted list :', l)\n"
      ],
      "metadata": {
        "colab": {
          "base_uri": "https://localhost:8080/"
        },
        "id": "jhsOJhRl3O2p",
        "outputId": "8ecdc7ba-48ee-4f36-b4b4-fb84ef55819b"
      },
      "execution_count": null,
      "outputs": [
        {
          "output_type": "stream",
          "name": "stdout",
          "text": [
            "sorted list : ['A', 'M', 'Z']\n"
          ]
        }
      ]
    },
    {
      "cell_type": "code",
      "source": [
        "from functools import reduce\n",
        "list1 = [2, 4, 7, 9, 1, 3]\n",
        "sum_of_list1 = reduce(lambda a, b:a + b, list1)\n",
        "\n",
        "list2 = [\"abc\", \"xyz\", \"def\"]\n",
        "max_of_list2 = reduce(lambda a, b:a if a>b else b, list2)\n",
        "\n",
        "print('Sum of list1 :', sum_of_list1)\n",
        "print('Maximum of list2 :', max_of_list2)\n"
      ],
      "metadata": {
        "colab": {
          "base_uri": "https://localhost:8080/"
        },
        "id": "6-YCJdJH5uts",
        "outputId": "11f1f83f-ac2a-44a8-e13b-56e75d36c5a5"
      },
      "execution_count": null,
      "outputs": [
        {
          "output_type": "stream",
          "name": "stdout",
          "text": [
            "Sum of list1 : 26\n",
            "Maximum of list2 : xyz\n"
          ]
        }
      ]
    },
    {
      "cell_type": "code",
      "source": [
        "from functools import total_ordering\n",
        "\n",
        "@total_ordering\n",
        "class N:\n",
        "\tdef __init__(self, value):\n",
        "\t\tself.value = value\n",
        "\tdef __eq__(self, other):\n",
        "\t\treturn self.value == other.value\n",
        "\n",
        "\t# Reverse the function of\n",
        "\t# '<' operator and accordingly\n",
        "\t# other rich comparison operators\n",
        "\t# due to total_ordering decorator\n",
        "\tdef __lt__(self, other):\n",
        "\t\treturn self.value > other.value\n",
        "\n",
        "\n",
        "print('6 > 2 :', N(6)>N(2))\n",
        "print('3 < 1 :', N(3)<N(1))\n",
        "print('2 <= 7 :', N(2)<= N(7))\n",
        "print('9 >= 10 :', N(9)>= N(10))\n",
        "print('5 == 5 :', N(5)== N(5))\n"
      ],
      "metadata": {
        "colab": {
          "base_uri": "https://localhost:8080/"
        },
        "id": "9YOPOG-m64AJ",
        "outputId": "eb34ff2f-07c1-4f4e-ee2d-fc8de77d5037"
      },
      "execution_count": null,
      "outputs": [
        {
          "output_type": "stream",
          "name": "stdout",
          "text": [
            "6 > 2 : False\n",
            "3 < 1 : True\n",
            "2 <= 7 : False\n",
            "9 >= 10 : True\n",
            "5 == 5 : True\n"
          ]
        }
      ]
    }
  ]
}