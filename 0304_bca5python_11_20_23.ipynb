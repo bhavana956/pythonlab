{
  "nbformat": 4,
  "nbformat_minor": 0,
  "metadata": {
    "colab": {
      "provenance": [],
      "authorship_tag": "ABX9TyNcnOw+8MVxDvMoXV2wVRsw",
      "include_colab_link": true
    },
    "kernelspec": {
      "name": "python3",
      "display_name": "Python 3"
    },
    "language_info": {
      "name": "python"
    }
  },
  "cells": [
    {
      "cell_type": "markdown",
      "metadata": {
        "id": "view-in-github",
        "colab_type": "text"
      },
      "source": [
        "<a href=\"https://colab.research.google.com/github/bhavana956/pythonlab/blob/main/0304_bca5python_11_20_23.ipynb\" target=\"_parent\"><img src=\"https://colab.research.google.com/assets/colab-badge.svg\" alt=\"Open In Colab\"/></a>"
      ]
    },
    {
      "cell_type": "code",
      "execution_count": 1,
      "metadata": {
        "colab": {
          "base_uri": "https://localhost:8080/"
        },
        "id": "bok9HIlaQV-t",
        "outputId": "55e4394c-945d-459b-8ac6-dd3f2a16d896"
      },
      "outputs": [
        {
          "output_type": "stream",
          "name": "stdout",
          "text": [
            "Monday\n",
            "Tuesday\n",
            "Wednesday\n",
            "Thursday\n",
            "Friday\n",
            "\n"
          ]
        }
      ],
      "source": [
        "fp1 = open(\"Weekdays.txt\",\"w+\")\n",
        "fp1.write(\"Monday\\n\")\n",
        "fp1.write(\"Tuesday\\n\")\n",
        "fp1.write(\"Wednesday\\n\")\n",
        "fp1.write(\"Thursday\\n\")\n",
        "fp1.write(\"Friday\\n\")\n",
        "fp1.seek(0)\n",
        "t = fp1.read()\n",
        "print(t)"
      ]
    },
    {
      "cell_type": "code",
      "source": [
        "def main():\n",
        "  obj1 = open(\"Demo1.txt\", \"w\")\n",
        "  obj1.write(\"Hello, How are you? \\n\")\n",
        "  obj1.write(\"Welcome to The File Handling. \\n\")\n",
        "  obj1.write(\"Enjoy the session. \\n\")\n",
        "\n",
        "\n",
        "main()"
      ],
      "metadata": {
        "id": "eUR0SyESQtCS"
      },
      "execution_count": null,
      "outputs": []
    },
    {
      "cell_type": "code",
      "source": [
        "from random import randint\n",
        "fp1 = open(\"WriteNumRandom.txt\",\"w\")\n",
        "for x in range(51):\n",
        "  x = randint(500,1000)\n",
        "  x = str(x)\n",
        "  fp1.write(x + \" \")\n",
        "\n",
        "fp1.close()"
      ],
      "metadata": {
        "id": "qmJV1VNwQ19C"
      },
      "execution_count": null,
      "outputs": []
    },
    {
      "cell_type": "code",
      "source": [
        "fp = open(\"Demo.txt\",\"r\")\n",
        "text = fp.read()\n",
        "print(text)"
      ],
      "metadata": {
        "id": "CbhwdLx4Q3ky"
      },
      "execution_count": null,
      "outputs": []
    },
    {
      "cell_type": "code",
      "source": [
        "# server.py\n",
        "# Importing neccessary inbuilt modules\n",
        "import socket\n",
        "import random\n",
        "import string\n",
        "\n",
        "# Creating a socket instance\n",
        "server_object = socket.socket(family=socket.AF_INET, type=socket.SOCK_STREAM)\n",
        "\n",
        "# Connecting to the localhost\n",
        "ip_address = '127.0.0.1'\n",
        "port = 5555\n",
        "server_object.bind((ip_address, port))\n",
        "server_object.listen()\n",
        "\n",
        "#Once the client connects to the particular port, the server starts to accept the request.\n",
        "connection_object, _ = server_object.accept()\n",
        "\n",
        "\n",
        "if connection_object:\n",
        "\t# Connected to client successfully\n",
        "    print(\"SERVER CONNECTED TO CLIENT\")\n",
        "\n",
        "    # sending initial message to the client\n",
        "    connection_object.send(b\"type the message\")\n",
        "\n",
        "    # receiving message from the client\n",
        "    data_receive = connection_object.recv(1024)\n",
        "\n",
        "    while data_receive != b'stop':\n",
        "        print(\"{}: {}\".format(\"CLIENT MESSAGE: \", data_receive.decode('utf-8')))\n",
        "        server_input = random.choice(string.ascii_letters)\n",
        "        connection_object.send(server_input.encode('utf-8'))\n",
        "        data_receive = connection_object.recv(1024)"
      ],
      "metadata": {
        "id": "ZYNLs9e4RIYh"
      },
      "execution_count": null,
      "outputs": []
    },
    {
      "cell_type": "code",
      "source": [
        " client.py\n",
        "\n",
        "#importing socket module\n",
        "import socket\n",
        "\n",
        "# creating socket instance\n",
        "client_object = socket.socket(family=socket.AF_INET, type=socket.SOCK_STREAM)\n",
        "\n",
        "# target ip address and port\n",
        "ip_address = '127.0.0.1'\n",
        "port = 5555\n",
        "\n",
        "# instance requesting for connection to the specified address and port\n",
        "client_object.connect((ip_address,port))\n",
        "\n",
        "# receiving response from server\n",
        "data_receive = client_object.recv(1024)\n",
        "\n",
        "# if response is not null\n",
        "if data_receive:\n",
        "\t# Connection is successful\n",
        "    print(\"CLIENT CONNECTED TO SERVER\")\n",
        "    print(data_receive.decode('utf-8'))\n",
        "\n",
        "\n",
        "    while data_receive:\n",
        "    \t# user input\n",
        "        client_input = input().encode('utf-8')\n",
        "\n",
        "        # sending request to the server\n",
        "        client_object.send(client_input)\n",
        "\n",
        "        # receiving response from the server\n",
        "        data_receive = client_object.recv(1024)\n",
        "        if data_receive:\n",
        "            print(\"{}: {}\".format(\"SERVER\",data_receive.decode('utf-8')))"
      ],
      "metadata": {
        "id": "wOVef-F2RVv7"
      },
      "execution_count": null,
      "outputs": []
    },
    {
      "cell_type": "code",
      "source": [
        "fp1 = open(\"WriteNumbers.txt\",\"r\")\n",
        "num = fp1.read()\n",
        "print(num)\n",
        "print(type(num))\n"
      ],
      "metadata": {
        "id": "WaTgl5sCSBM7"
      },
      "execution_count": null,
      "outputs": []
    },
    {
      "cell_type": "code",
      "source": [
        "fp1.seek(0,2)\n",
        "fp1.write('Saturday\\n')\n",
        "fp1.write(\"Sunday\\n\")\n",
        "fp1.seek(0)\n",
        "t = fp1.read()\n",
        "print(t)"
      ],
      "metadata": {
        "id": "bsGWb0fQTdyP"
      },
      "execution_count": null,
      "outputs": []
    }
  ]
}